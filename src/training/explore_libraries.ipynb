{
 "cells": [
  {
   "cell_type": "code",
   "execution_count": null,
   "metadata": {},
   "outputs": [],
   "source": [
    "#!python -m spacy download en_core_web_lg"
   ]
  },
  {
   "cell_type": "code",
   "execution_count": null,
   "metadata": {},
   "outputs": [],
   "source": [
    "#!python -m spacy download en_core_web_trf"
   ]
  },
  {
   "cell_type": "code",
   "execution_count": null,
   "metadata": {},
   "outputs": [],
   "source": [
    "#!python -m coreferee install en"
   ]
  },
  {
   "cell_type": "code",
   "execution_count": 1,
   "metadata": {},
   "outputs": [
    {
     "data": {
      "text/plain": [
       "True"
      ]
     },
     "execution_count": 1,
     "metadata": {},
     "output_type": "execute_result"
    }
   ],
   "source": [
    "import torch\n",
    "torch.cuda.is_available()"
   ]
  },
  {
   "cell_type": "code",
   "execution_count": 2,
   "metadata": {},
   "outputs": [
    {
     "data": {
      "text/plain": [
       "1"
      ]
     },
     "execution_count": 2,
     "metadata": {},
     "output_type": "execute_result"
    }
   ],
   "source": [
    "torch.cuda.device_count()"
   ]
  },
  {
   "cell_type": "code",
   "execution_count": 4,
   "metadata": {},
   "outputs": [
    {
     "name": "stdout",
     "output_type": "stream",
     "text": [
      "11.6\n"
     ]
    }
   ],
   "source": [
    "print(torch.version.cuda)"
   ]
  },
  {
   "cell_type": "code",
   "execution_count": 5,
   "metadata": {},
   "outputs": [
    {
     "data": {
      "text/plain": [
       "<coreferee.manager.CorefereeBroker at 0x225f65b5df0>"
      ]
     },
     "execution_count": 5,
     "metadata": {},
     "output_type": "execute_result"
    }
   ],
   "source": [
    "import coreferee, spacy\n",
    "\n",
    "nlp = spacy.load('en_core_web_trf')\n",
    "nlp.add_pipe('coreferee')"
   ]
  },
  {
   "cell_type": "code",
   "execution_count": 26,
   "metadata": {},
   "outputs": [
    {
     "name": "stdout",
     "output_type": "stream",
     "text": [
      "0: Tom(0), his(5), he(8), he(11)\n",
      "1: Texas(3), it(13)\n"
     ]
    }
   ],
   "source": []
  },
  {
   "cell_type": "code",
   "execution_count": 27,
   "metadata": {},
   "outputs": [],
   "source": [
    "text = \"Tom was in Texas with his wife and he said that he liked it\"\n",
    "#text = \"Although he was very busy with his work, Peter had had enough of it. He and his wife decided they needed a holiday. They travelled to Spain because they loved the country very much.\"\n"
   ]
  },
  {
   "cell_type": "code",
   "execution_count": 28,
   "metadata": {},
   "outputs": [
    {
     "name": "stdout",
     "output_type": "stream",
     "text": [
      "0: Tom(0), his(5), he(8), he(11)\n",
      "1: Texas(3), it(13)\n"
     ]
    }
   ],
   "source": [
    "#Basic usage of coreferee\n",
    "doc = nlp(text)\n",
    "doc._.coref_chains.print()"
   ]
  },
  {
   "cell_type": "code",
   "execution_count": 31,
   "metadata": {},
   "outputs": [
    {
     "name": "stdout",
     "output_type": "stream",
     "text": [
      "[Texas]\n"
     ]
    }
   ],
   "source": [
    "print(doc._.coref_chains.resolve(doc[13]))"
   ]
  },
  {
   "cell_type": "code",
   "execution_count": 32,
   "metadata": {},
   "outputs": [
    {
     "name": "stdout",
     "output_type": "stream",
     "text": [
      "None\n"
     ]
    }
   ],
   "source": [
    "print(doc._.coref_chains.resolve(doc[3]))"
   ]
  },
  {
   "cell_type": "code",
   "execution_count": null,
   "metadata": {},
   "outputs": [],
   "source": [
    "# Find parent/original entity and resolve other references to it.\n",
    "# In above example 'it' resolved to 'Texas' but 'Texas' resolved to None because Texas is original entity.\n",
    "# Basic logic to get resolved text:\n",
    "#1. Get all token words\n",
    "#2. Check resolution of each token \n",
    "#3. If it is None,it means it's original entity or there is nothing to resolve, so ignore None\n",
    "#4. If it is not None,then replcae token with resolved/original entity\n",
    "#5. Combine all tokens back to get resolved text"
   ]
  },
  {
   "cell_type": "code",
   "execution_count": 24,
   "metadata": {},
   "outputs": [
    {
     "name": "stdout",
     "output_type": "stream",
     "text": [
      "['Tom ', 'was ', 'in ', 'Texas ', 'with ', 'his ', 'wife ', 'and ', 'he ', 'said ', 'that ', 'he ', 'liked ', 'it']\n"
     ]
    }
   ],
   "source": [
    "doc = nlp(text)\n",
    "# Get token list\n",
    "tok_list = list(token.text_with_ws for token in doc)\n",
    "print(tok_list)\n",
    "for index, _ in enumerate(tok_list):\n",
    "    #Check resolution of each token \n",
    "    if None != doc._.coref_chains.resolve(doc[index]):\n",
    "        new_token = \"\"\n",
    "        #If it is not None,then replcae token with resolved/original entity\n",
    "        for resolved_token in doc._.coref_chains.resolve(doc[index]):\n",
    "            new_token = new_token + resolved_token.text + \" \"\n",
    "        tok_list[index] = new_token\n",
    "resolved_text = \"\".join(tok_list)"
   ]
  },
  {
   "cell_type": "code",
   "execution_count": 22,
   "metadata": {},
   "outputs": [
    {
     "data": {
      "text/plain": [
       "'Tom was in Texas with Tom wife and Tom said that wife liked Texas '"
      ]
     },
     "execution_count": 22,
     "metadata": {},
     "output_type": "execute_result"
    }
   ],
   "source": [
    "resolved_text"
   ]
  },
  {
   "cell_type": "code",
   "execution_count": null,
   "metadata": {},
   "outputs": [],
   "source": []
  }
 ],
 "metadata": {
  "kernelspec": {
   "display_name": "Python 3.8.13 ('coreference_resolution_api')",
   "language": "python",
   "name": "python3"
  },
  "language_info": {
   "codemirror_mode": {
    "name": "ipython",
    "version": 3
   },
   "file_extension": ".py",
   "mimetype": "text/x-python",
   "name": "python",
   "nbconvert_exporter": "python",
   "pygments_lexer": "ipython3",
   "version": "3.8.13"
  },
  "orig_nbformat": 4,
  "vscode": {
   "interpreter": {
    "hash": "827979622e7ee540a4512ada8c9c1597cd84849050268d845a5034c4ea909532"
   }
  }
 },
 "nbformat": 4,
 "nbformat_minor": 2
}
